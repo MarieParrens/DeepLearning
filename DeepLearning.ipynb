{
 "cells": [
  {
   "cell_type": "markdown",
   "id": "03ba30bd-68a9-4290-ac21-bf67dcf29c1c",
   "metadata": {},
   "source": [
    "# Reconnaissance de caractères"
   ]
  },
  {
   "cell_type": "markdown",
   "id": "e4fd890d-c52e-4764-a2ff-f79e3e149503",
   "metadata": {},
   "source": [
    "### Peut-on à l'aide du deep learning reconnaitre des chiffres écrit à la main ? "
   ]
  },
  {
   "cell_type": "markdown",
   "id": "4db2bff5-41b2-41b5-b82c-4983558ece48",
   "metadata": {},
   "source": [
    "Chargement de la librairie R de deep learning :"
   ]
  },
  {
   "cell_type": "code",
   "execution_count": null,
   "id": "974dcc32-714c-4784-b8de-ebed6d6ec43a",
   "metadata": {},
   "outputs": [],
   "source": [
    "library(keras)"
   ]
  },
  {
   "cell_type": "markdown",
   "id": "20451ce4-87e9-437a-84a2-b0cce22bfa22",
   "metadata": {},
   "source": [
    "Le Deep Learning peut être vu comme une sous-catégorie des « réseaux de neurones ». En effet,\n",
    "il s’agit d’un ensemble d’outils et de méthodes d’apprentissage automatique basés sur l’utilisation\n",
    "« avancée » de réseaux de neurones. On utilise les mots « deep » ou « profond » en référence au\n",
    "nombre de couches de neurones qui constituent ces réseaux : plus le nombre de couches est grand plus\n",
    "le réseau est profond et plus il permet de traiter des problèmes complexes. "
   ]
  },
  {
   "cell_type": "markdown",
   "id": "2ce4a6ac-caed-4e32-baae-287d1071eb32",
   "metadata": {},
   "source": [
    "<img src=\"reseau2neurones.PNG\" style=\"width:600px;height:250px\"/>"
   ]
  },
  {
   "cell_type": "markdown",
   "id": "6d86fcb5-da11-41f6-99d1-b74c2ee8ad26",
   "metadata": {},
   "source": [
    "Chargement du jeu de données MNIST :"
   ]
  },
  {
   "cell_type": "code",
   "execution_count": null,
   "id": "38e35154-5d4b-4714-81ab-d8eab14f75ee",
   "metadata": {},
   "outputs": [],
   "source": [
    "mnist <- dataset_mnist()"
   ]
  },
  {
   "cell_type": "markdown",
   "id": "a44b4a9a-e312-4728-9632-d7ccc9951173",
   "metadata": {},
   "source": [
    "La base de données MNIST pour Modified ou Mixed National Institute of Standards and Technology, est une base de données de chiffres écrits à la main. C'est un jeu de données très utilisé en deep learning.\n",
    "\n",
    "La reconnaissance de l'écriture manuscrite est un problème difficile, et un bon test pour les algorithmes d'apprentissage. La base MNIST est devenue un test standard. Elle regroupe 60000 images d'entrainement et 10000 images de test, issues d'une base de données antérieure, appelée simplement NIST. Ce sont des images en noir et blanc, normalisées centrées de 28 pixels de côté. "
   ]
  },
  {
   "cell_type": "markdown",
   "id": "9a1a7ca1-84ef-4272-ae71-e15f743a9b99",
   "metadata": {},
   "source": [
    "<img src=\"mnist.png\" style=\"width:700px;height:400px\"/>"
   ]
  },
  {
   "cell_type": "markdown",
   "id": "8c186079-44e5-47a4-8264-515c23e8848b",
   "metadata": {},
   "source": [
    "Il y a 784 pixels ce qui représente une image de dimension 28 x 28."
   ]
  },
  {
   "cell_type": "markdown",
   "id": "39f84f09-75b5-4ed6-96b9-91197fae4d90",
   "metadata": {},
   "source": [
    "# 1) Création des jeux d'entrainement et de test"
   ]
  },
  {
   "cell_type": "markdown",
   "id": "4a6fbf06-4f33-4522-9c22-1077056dc63f",
   "metadata": {},
   "source": [
    "Préparons les images MNIST d'entrainement et de test. Ces images seront notées train_x et test_x."
   ]
  },
  {
   "cell_type": "code",
   "execution_count": null,
   "id": "46d8aae2-e9b9-4832-bb69-f585a00da1a9",
   "metadata": {},
   "outputs": [],
   "source": [
    "train_x <- mnist$train$x\n",
    "test_x <- mnist$test$x"
   ]
  },
  {
   "cell_type": "markdown",
   "id": "5ebd002c-177b-4ca2-a206-68dbc2e04b08",
   "metadata": {},
   "source": [
    "Dimension du jeu d'entrée d'entrainement et de test :"
   ]
  },
  {
   "cell_type": "code",
   "execution_count": null,
   "id": "5b0c6bfb-103e-4d96-9c92-bcf311914a29",
   "metadata": {},
   "outputs": [],
   "source": [
    "dim(train_x)\n",
    "dim(test_x)"
   ]
  },
  {
   "cell_type": "markdown",
   "id": "9cf09995-dccb-4cde-807d-584ba776ae1a",
   "metadata": {},
   "source": [
    "Dans le jeu d'entrée d'entrainement, il y a 60000 images de 28x28 pixels. Idem pour le jeu d'entrée de test, sauf qu'il n'y a que 10000 images ! Ces images ne peuvent pas être traitées telles quelles par le réseau de neurones. Il faut :\n",
    "- les vectoriser : on met les 784 pixels (28x28) en une seule ligne, appelée vecteur (explication dans l'image ci-dessous)\n",
    "- les normaliser : les pixels n'ont plus des valeurs comprises entre 0 et 255 mais entre 0 et 1. \n",
    "Les deux lignes de commandes suivantes font les deux traitements :"
   ]
  },
  {
   "cell_type": "markdown",
   "id": "7e4863d2-ddfc-487d-815d-d5556076a730",
   "metadata": {},
   "source": [
    "<img src=\"mnist2.PNG\" style=\"width:300px;height:250px\"/>"
   ]
  },
  {
   "cell_type": "code",
   "execution_count": null,
   "id": "33ce6592-65b3-4743-849d-8d427aead3f6",
   "metadata": {},
   "outputs": [],
   "source": [
    "train_x <- array(train_x, dim = c(dim(train_x)[1], prod(dim(train_x)[-1]))) / 255\n",
    "test_x <- array(test_x, dim = c(dim(test_x)[1], prod(dim(test_x)[-1]))) / 255"
   ]
  },
  {
   "cell_type": "markdown",
   "id": "e9c2a34f-02a0-4e12-9c91-70f677e2379b",
   "metadata": {},
   "source": [
    "Malgré la vectorisation, on peut toujours afficher les données d'entrée sous forme d'une image à l'aide des commandes matrix() et image().\n",
    "Affichons la première image du jeu de d'entrée d'entrainement (train_x) :"
   ]
  },
  {
   "cell_type": "code",
   "execution_count": null,
   "id": "7a5250fc-f163-4aa5-8599-7ef3c7d2d8ba",
   "metadata": {},
   "outputs": [],
   "source": [
    "m <- matrix(train_x[1,],28,28,byrow=T)\n",
    "image(m[,ncol(m):1], axes = FALSE,col=gray.colors(255))"
   ]
  },
  {
   "cell_type": "markdown",
   "id": "208578fb-6b62-40b6-9d8c-75f01b3f7751",
   "metadata": {},
   "source": [
    "Cette image correspond à cette matrice :"
   ]
  },
  {
   "cell_type": "code",
   "execution_count": null,
   "id": "f09b6be8-fd27-403c-890e-b6be341ecab5",
   "metadata": {},
   "outputs": [],
   "source": [
    "m"
   ]
  },
  {
   "cell_type": "markdown",
   "id": "ec71bf60-f89c-4b8c-824d-a2222ac20896",
   "metadata": {},
   "source": [
    "Affichage de la huitième image du jeu de donnée d'entrainement (train_x) :"
   ]
  },
  {
   "cell_type": "code",
   "execution_count": null,
   "id": "7cd5ec13-8ffc-46fe-a9a8-e067603cf6aa",
   "metadata": {},
   "outputs": [],
   "source": [
    "m <- matrix(train_x[8,],28,28,byrow=T)\n",
    "image(m[,ncol(m):1], axes = FALSE,col=gray.colors(255))"
   ]
  },
  {
   "cell_type": "markdown",
   "id": "d1a4d73f-39ef-452e-9e06-70a21aa9dc7d",
   "metadata": {},
   "source": [
    "Préparartion du jeu de données d'entrainement et de test permettant de comparer si les résultats prédits par le réseau de neurones sont corrects ou pas."
   ]
  },
  {
   "cell_type": "code",
   "execution_count": null,
   "id": "51d80a32-66a4-4033-ab80-3d27d3dc62a8",
   "metadata": {},
   "outputs": [],
   "source": [
    "train_y <- mnist$train$y\n",
    "test_y <- mnist$test$y"
   ]
  },
  {
   "cell_type": "markdown",
   "id": "e641d74e-198f-4a15-a059-e378ee2104b8",
   "metadata": {},
   "source": [
    "Par défaut, les données sont stockées sous forme de nombre entiers, il est préférable de les stocker sous forme binaire pour faire du deep learning. En effet, on a apprend pas à reconnaitre la forme des nombres mais on apprend si le nombre est reconnu dans la bonne case (la case du 0, du 1, du 2, etc)."
   ]
  },
  {
   "cell_type": "code",
   "execution_count": null,
   "id": "9ac803dd-dcc9-4140-926e-536ea6261398",
   "metadata": {},
   "outputs": [],
   "source": [
    "train_y_cat<-to_categorical(train_y,10)\n",
    "test_y_cat<-to_categorical(test_y,10)\n",
    "train_y <- train_y_cat\n",
    "test_y <- test_y_cat"
   ]
  },
  {
   "cell_type": "markdown",
   "id": "5ea214f9-98b1-413c-8f41-9b7ccbd0a7f1",
   "metadata": {},
   "source": [
    "Dimension du jeu Y d'entrainement :"
   ]
  },
  {
   "cell_type": "code",
   "execution_count": null,
   "id": "8d358674-ee4c-430b-aee4-cdeaaf48741b",
   "metadata": {},
   "outputs": [],
   "source": [
    "dim(train_y)"
   ]
  },
  {
   "cell_type": "markdown",
   "id": "2709d465-adcd-4dd4-a0d9-4981c7fb0307",
   "metadata": {},
   "source": [
    "Regardons le premier nombre :"
   ]
  },
  {
   "cell_type": "code",
   "execution_count": null,
   "id": "725f7d47-f2a4-49a9-beba-2799731cfdb2",
   "metadata": {},
   "outputs": [],
   "source": [
    "train_y[1,]"
   ]
  },
  {
   "cell_type": "markdown",
   "id": "e61d7e90-ea4b-4c78-83f2-aacf36c7b034",
   "metadata": {},
   "source": [
    "Ce nombre est 5 !"
   ]
  },
  {
   "cell_type": "markdown",
   "id": "aef2ef26-8b62-4868-800f-0c30d9c886a2",
   "metadata": {},
   "source": [
    "Représentons-le graphiquement :"
   ]
  },
  {
   "cell_type": "code",
   "execution_count": null,
   "id": "c601fce3-c0ea-4ba0-a1a2-4f5c2b9fa5a1",
   "metadata": {},
   "outputs": [],
   "source": [
    "nbre <- train_y[1,]\n",
    "names(nbre) <- 0:9 \n",
    "barplot(nbre)"
   ]
  },
  {
   "cell_type": "markdown",
   "id": "42e38f7c-4be9-407b-817f-eb3346eccdd0",
   "metadata": {},
   "source": [
    "Que vaut le centième chiffre du jeu de données test ? "
   ]
  },
  {
   "cell_type": "code",
   "execution_count": null,
   "id": "b3d02299-fc35-4c6d-814d-cf730c76175e",
   "metadata": {},
   "outputs": [],
   "source": []
  },
  {
   "cell_type": "markdown",
   "id": "479bfeed-05b4-4e21-94b5-d2f2b25cbf99",
   "metadata": {},
   "source": [
    "Suprression du jeu de données entier MNITS de la mémoire :"
   ]
  },
  {
   "cell_type": "code",
   "execution_count": null,
   "id": "937907f4-9fff-4df3-8dda-310ffcfe6ce0",
   "metadata": {
    "tags": []
   },
   "outputs": [],
   "source": [
    "rm(mnist)"
   ]
  },
  {
   "cell_type": "markdown",
   "id": "b5cc1183-ffc5-4f53-8819-39cfad6d617e",
   "metadata": {},
   "source": [
    "### Récapitulons ce que l'on vient de voir à l'aide du schéma général du deep learning :\n",
    "<img src=\"nn2.png\" style=\"width:700px;height:170px\"/>"
   ]
  },
  {
   "cell_type": "markdown",
   "id": "9b603963-be3f-4c98-918c-707fd2f1143a",
   "metadata": {},
   "source": [
    "# 2) construction du réseau de neurones"
   ]
  },
  {
   "cell_type": "markdown",
   "id": "025b5185-b6e7-445e-be6d-501dd0b63c87",
   "metadata": {},
   "source": [
    "MNIST est un jeu de données conséquent mais facile pour du deep learning ! Nous allons choisir une couche d'entrée avec 784 neurones (ce qui correspond à nos 784 pixels de nos images - même taille que notre vecteur X). \n",
    "Une couche de sortie avec 10 neurones correspondant aux 10 chiffres que l'on veut retrouver (même taille que notre vecteur Y). Entre ces deux couches, on met une couche caché composée de 100 neurones. Pour lier les couches entre elles, on utilise des fonctions d'activation comme relu ou sofmax. Ce réseau est schématisé dans la figure suivante :"
   ]
  },
  {
   "cell_type": "markdown",
   "id": "29112842-60af-4373-8ac8-2abc5d861ea5",
   "metadata": {},
   "source": [
    "<img src=\"reseau1.png\" style=\"width:270px;height:300px\"/>"
   ]
  },
  {
   "cell_type": "code",
   "execution_count": null,
   "id": "9161be47-786e-444a-886b-5d95f9a70ebd",
   "metadata": {},
   "outputs": [],
   "source": [
    "model <- keras_model_sequential() \n",
    "model %>%\n",
    "layer_dense(units = 784, input_shape = 784) %>%\n",
    "layer_activation(activation = 'relu') %>%\n",
    "layer_dense(units = 100) %>%\n",
    "layer_activation(activation = 'relu') %>%\n",
    "layer_dense(units = 10) %>%\n",
    "layer_activation(activation = 'softmax')\n",
    "summary(model)"
   ]
  },
  {
   "cell_type": "markdown",
   "id": "d4e6de15-24cf-4e23-871c-c5fecdb43f95",
   "metadata": {},
   "source": [
    "Avant d'entrainer le modèle, il faut le compiler. Cette étape consiste à savoir comment on va évaluer la performance du modèle."
   ]
  },
  {
   "cell_type": "code",
   "execution_count": null,
   "id": "48ab1662-b670-4e76-a596-db4428ed3c93",
   "metadata": {},
   "outputs": [],
   "source": [
    "model %>% compile(\n",
    "loss = 'categorical_crossentropy',\n",
    "optimizer = 'adam',\n",
    "metrics = c('accuracy')\n",
    ")"
   ]
  },
  {
   "cell_type": "markdown",
   "id": "a64ef6b4-4a00-4c43-bb64-2aa62a59f693",
   "metadata": {},
   "source": [
    "On peut maintenant entrainer le modèle à l'aide de la fonction fit(). Le modèle va s'entrainer sur 30 epochs avec 1000 images à chaque epoch."
   ]
  },
  {
   "cell_type": "code",
   "execution_count": null,
   "id": "133729aa-bbb8-4ade-9172-e5feb67b6077",
   "metadata": {},
   "outputs": [],
   "source": [
    "learning <- model %>% fit(train_x, train_y, epochs = 30, batch_size = 1000, validation_split=0.2)"
   ]
  },
  {
   "cell_type": "markdown",
   "id": "5c7e3b75-e43e-4c75-b737-9a46bcc5eac9",
   "metadata": {},
   "source": [
    "Regardons ce qu'il s'est passé pendant l'entrainement :"
   ]
  },
  {
   "cell_type": "code",
   "execution_count": null,
   "id": "9d190bf9-ceda-460b-93ba-98b665de14ae",
   "metadata": {},
   "outputs": [],
   "source": [
    "plot(learning)"
   ]
  },
  {
   "cell_type": "code",
   "execution_count": null,
   "id": "7efbad12-be41-47f4-be9b-c0b9a4ff04bb",
   "metadata": {},
   "outputs": [],
   "source": [
    "model %>% evaluate(train_x, train_y)"
   ]
  },
  {
   "cell_type": "markdown",
   "id": "e3743fc2-309b-4782-b30d-5a215ad52f21",
   "metadata": {},
   "source": [
    "On obtient une précision du modèle (réseau de neurones) supérieure à 97% et très proche de 100% !"
   ]
  },
  {
   "cell_type": "markdown",
   "id": "06e19317-728e-4d38-868b-9d6991ea9481",
   "metadata": {},
   "source": [
    "# 3) Evaluation du modèle"
   ]
  },
  {
   "cell_type": "markdown",
   "id": "a31fb861-51ed-4f52-882a-1d7304dfc999",
   "metadata": {},
   "source": [
    "Evaluation maintenant la performance du modèle sur le jeu de données test (le résultat sera nécessairement inférieur à celui effectué sur le jeu de données d'entrainement)."
   ]
  },
  {
   "cell_type": "code",
   "execution_count": null,
   "id": "ce706b58-a1c8-48af-8fd2-ebc9d68541e6",
   "metadata": {},
   "outputs": [],
   "source": [
    "model %>% evaluate(test_x, test_y)"
   ]
  },
  {
   "cell_type": "markdown",
   "id": "e955ef52-56dc-4334-a877-0e5afd248765",
   "metadata": {},
   "source": [
    "On peut maintenant reconnaitre les caractères du jeu de données test : "
   ]
  },
  {
   "cell_type": "code",
   "execution_count": null,
   "id": "75eb3f04-900c-4a8c-8b8f-9009b6ae79c6",
   "metadata": {},
   "outputs": [],
   "source": [
    "prediction <- model %>% predict(test_x)"
   ]
  },
  {
   "cell_type": "markdown",
   "id": "2e2dd0ac-0fe1-484e-aca9-ffb24654d91e",
   "metadata": {},
   "source": [
    "Le jeu de données test_y et prédiction sont de la même taille (c'est rassurant !) et ca permet de les comparer : "
   ]
  },
  {
   "cell_type": "code",
   "execution_count": null,
   "id": "8e3899bf-4455-456f-8887-f45cfc1c7d9d",
   "metadata": {},
   "outputs": [],
   "source": [
    "dim(prediction)\n",
    "dim(test_y)"
   ]
  },
  {
   "cell_type": "markdown",
   "id": "61b2f15a-4b5a-4c32-8eba-7ca06aa5efa4",
   "metadata": {},
   "source": [
    "Regardons la première image du jeu test à déchiffrer :"
   ]
  },
  {
   "cell_type": "code",
   "execution_count": null,
   "id": "5bb38803-a60a-451d-a518-f06a514e356e",
   "metadata": {},
   "outputs": [],
   "source": [
    "m<-matrix(test_x[235,],28,28,byrow=T)\n",
    "image(m[,ncol(m):1])"
   ]
  },
  {
   "cell_type": "markdown",
   "id": "04fff302-a856-4f7a-8ba5-a8d7721f198f",
   "metadata": {},
   "source": [
    "\n",
    "Que voit-on ? le chiffre 7. Est-ce bien le chiffre 7 qu'il fallait lire ? "
   ]
  },
  {
   "cell_type": "code",
   "execution_count": null,
   "id": "07269f4e-d3f3-44b6-9e7f-2c8c6fc9ab89",
   "metadata": {},
   "outputs": [],
   "source": [
    "nbre <- test_y[1,]\n",
    "names(nbre) <- 0:9 \n",
    "barplot(nbre)"
   ]
  },
  {
   "cell_type": "markdown",
   "id": "b9ad2f6b-f4e4-42a1-a394-af9023c1464c",
   "metadata": {},
   "source": [
    "Quel chiffre a été prédit par notre réseau de neurones ? "
   ]
  },
  {
   "cell_type": "code",
   "execution_count": null,
   "id": "5980a276-3f8b-4be3-9f78-b301d723dee2",
   "metadata": {},
   "outputs": [],
   "source": [
    "nbre <- prediction[1,]\n",
    "names(nbre) <- 0:9 \n",
    "barplot(nbre)\n",
    "prediction[1,]"
   ]
  },
  {
   "cell_type": "markdown",
   "id": "3290e240-7bfc-4b82-ab32-011857a3453f",
   "metadata": {},
   "source": [
    "Le réseau de neurone a bien reconnu le 7 mais est-ce le cas pour tout notre jeu de données ? Regardons pour les 20 premiers chiffres."
   ]
  },
  {
   "cell_type": "code",
   "execution_count": null,
   "id": "c264f69e-5d50-4c11-b6f3-c163c9e3a4d4",
   "metadata": {},
   "outputs": [],
   "source": [
    "library(ggplot2)\n",
    "library(repr)\n",
    "nbre <-  0:9\n",
    "nbplot <- 500\n",
    "prevision <- round(prediction)%*%nbre\n",
    "objectif = test_y%*%nbre\n",
    "df <- data.frame(index = 1:nbplot,previ = prevision[1:nbplot], objectif[1:nbplot])\n",
    "df\n",
    "ggplot(data=df,aes(x=1:nbplot,y=df$previ-df$objectif)) + geom_point() +theme_bw()"
   ]
  },
  {
   "cell_type": "markdown",
   "id": "5823bea7-eb46-42b5-b55b-b539df36f9be",
   "metadata": {},
   "source": [
    "Bravo !!! Vous avez réalisé votre premier réseau de neurones !"
   ]
  },
  {
   "cell_type": "markdown",
   "id": "b1463165-e71c-49c0-b031-0286840cb97a",
   "metadata": {},
   "source": [
    "# 4) Overfitting "
   ]
  },
  {
   "cell_type": "markdown",
   "id": "34d978cb-6cb7-4203-805b-f72439e3ce8e",
   "metadata": {},
   "source": [
    "Il se peut parfois que l'entrainement du modèle ne se passe pas bien... Une des possibilités est l'overfitting : le modèle est \"trop\" entrainé et colle \"trop\" aux données sans saisir l'évolution moyenne des données :"
   ]
  },
  {
   "cell_type": "markdown",
   "id": "a7a55503-41ca-48b0-a895-7abfc40b1dd5",
   "metadata": {},
   "source": [
    "<img src=\"overfiting.PNG\" style=\"width:150px;height:130px\"/>"
   ]
  },
  {
   "cell_type": "markdown",
   "id": "8d30ed4a-8e0f-4894-bc84-fce984b448fc",
   "metadata": {},
   "source": [
    "Reprendre la procédure de la construction et de l'évaluation du réseau de neurones présenté dans cette page pour construire le réseau de neurones ayant les caractéristiques suivantes :"
   ]
  },
  {
   "cell_type": "code",
   "execution_count": null,
   "id": "b29b0e4f-61d3-4aa4-aa79-4564e6b1d100",
   "metadata": {},
   "outputs": [],
   "source": [
    "# Overfitting \n",
    "model <- keras_model_sequential() \n",
    "model %>%\n",
    "layer_dense(units = 784, input_shape = 784) %>%\n",
    "layer_activation(activation = 'relu') %>%\n",
    "layer_dense(units = 1000) %>%\n",
    "layer_activation(activation = 'relu') %>%\n",
    "layer_dense(units = 1000) %>%\n",
    "layer_activation(activation = 'relu') %>%\n",
    "layer_dense(units = 10) %>%\n",
    "layer_activation(activation = 'softmax')\n",
    "summary(model)"
   ]
  },
  {
   "cell_type": "markdown",
   "id": "c15c9557-bb3b-4a8d-a1a3-821ac2f6c2aa",
   "metadata": {},
   "source": [
    "Au brouillon, réaliser le schéma (avec le ronds rouges, jaunes et gris) représentant ce nouveau réseau de neurones."
   ]
  },
  {
   "cell_type": "code",
   "execution_count": null,
   "id": "dece46e8-7803-4f4a-a39b-b794670b4f81",
   "metadata": {},
   "outputs": [],
   "source": []
  },
  {
   "cell_type": "code",
   "execution_count": null,
   "id": "01bf37c3-5af3-4558-af2f-d0db768de6cf",
   "metadata": {},
   "outputs": [],
   "source": []
  },
  {
   "cell_type": "code",
   "execution_count": null,
   "id": "d5081c99-41b2-45e2-b322-a0ad27d37c2d",
   "metadata": {},
   "outputs": [],
   "source": []
  },
  {
   "cell_type": "code",
   "execution_count": null,
   "id": "22c83166-c028-4d0c-87fb-42fcfa3ab15a",
   "metadata": {},
   "outputs": [],
   "source": []
  },
  {
   "cell_type": "code",
   "execution_count": null,
   "id": "5d2a2a52-face-4943-b064-56212fc0d9f9",
   "metadata": {},
   "outputs": [],
   "source": []
  },
  {
   "cell_type": "code",
   "execution_count": null,
   "id": "feedcb36-4566-4f42-84b3-c5a0bdd2583f",
   "metadata": {},
   "outputs": [],
   "source": []
  },
  {
   "cell_type": "code",
   "execution_count": null,
   "id": "4c818ea4-ebb8-4381-bfb0-df32eca4d495",
   "metadata": {},
   "outputs": [],
   "source": []
  },
  {
   "cell_type": "code",
   "execution_count": null,
   "id": "b14f0c80-a5b3-4c14-bde6-c42a72c06067",
   "metadata": {},
   "outputs": [],
   "source": []
  },
  {
   "cell_type": "markdown",
   "id": "4e9f6acd-34fd-4d73-9d17-29bca30f5ed3",
   "metadata": {},
   "source": [
    "Le modèle réussit-il à mieux évaluer les chiffres que le premier modèle ? "
   ]
  },
  {
   "cell_type": "code",
   "execution_count": null,
   "id": "1d6c2094-9663-42ba-bd6f-3ca22162b2e3",
   "metadata": {},
   "outputs": [],
   "source": []
  },
  {
   "cell_type": "markdown",
   "id": "f6a6484c-3f64-48b0-8ad4-8b4352df36dc",
   "metadata": {},
   "source": [
    "# 5) Underfitting"
   ]
  },
  {
   "cell_type": "markdown",
   "id": "732964a7-80be-46d9-a327-4771de2e7ae5",
   "metadata": {},
   "source": [
    "Un second problème classique peut survenir si on entraine pas assez bien son réseau de neurones, c'est l'underfitting : le réseau est sous-entrainé !"
   ]
  },
  {
   "cell_type": "markdown",
   "id": "69ae8c6e-4fa1-49ec-b53b-7af0ca70a3c0",
   "metadata": {},
   "source": [
    "<img src=\"underfitting.PNG\" style=\"width:150px;height:130px\"/>"
   ]
  },
  {
   "cell_type": "markdown",
   "id": "a845ad2e-e8bd-47bd-ac80-a3e7217b7105",
   "metadata": {},
   "source": [
    "Reprendre la procédure de la construction et de l'évaluation du réseau de neurones présenté dans cette page pour construire le réseau de neurones ayant les caractéristiques suivantes :"
   ]
  },
  {
   "cell_type": "code",
   "execution_count": null,
   "id": "86750210-5505-47f6-9c3b-f0a7bbc5d841",
   "metadata": {},
   "outputs": [],
   "source": [
    "# Underfitting \n",
    "model <- keras_model_sequential() \n",
    "model %>%\n",
    "layer_dense(units = 784, input_shape = 784) %>%\n",
    "layer_activation(activation = 'relu') %>%\n",
    "layer_dense(units = 2) %>%\n",
    "layer_activation(activation = 'relu') %>%\n",
    "layer_dense(units = 10) %>%\n",
    "layer_activation(activation = 'softmax')\n",
    "summary(model)"
   ]
  },
  {
   "cell_type": "markdown",
   "id": "a5f871ca-3190-4eb9-a562-e1724b128d99",
   "metadata": {},
   "source": [
    "Au brouillon, réaliser le schéma (avec le ronds rouges, jaunes et gris) représentant ce nouveau réseau de neurones."
   ]
  },
  {
   "cell_type": "code",
   "execution_count": null,
   "id": "a5678c3e-ce9f-48fb-af49-47351b7d6e87",
   "metadata": {},
   "outputs": [],
   "source": []
  },
  {
   "cell_type": "code",
   "execution_count": null,
   "id": "a6dfe434-3c51-4965-b852-f1f4b10f794e",
   "metadata": {},
   "outputs": [],
   "source": []
  },
  {
   "cell_type": "code",
   "execution_count": null,
   "id": "367818f4-94ac-4b53-a3f4-50333c80cd83",
   "metadata": {},
   "outputs": [],
   "source": []
  },
  {
   "cell_type": "code",
   "execution_count": null,
   "id": "e4e50b9b-6308-4332-ab37-c17004cb0629",
   "metadata": {},
   "outputs": [],
   "source": []
  },
  {
   "cell_type": "code",
   "execution_count": null,
   "id": "c750ab7a-56aa-49b2-8a7f-8880cde2a95f",
   "metadata": {},
   "outputs": [],
   "source": []
  },
  {
   "cell_type": "code",
   "execution_count": null,
   "id": "298bf10c-39dc-43b9-a949-9fbf4d394e2a",
   "metadata": {},
   "outputs": [],
   "source": []
  },
  {
   "cell_type": "code",
   "execution_count": null,
   "id": "df93eee1-5119-4c98-80c8-c737f9a2a5df",
   "metadata": {},
   "outputs": [],
   "source": []
  },
  {
   "cell_type": "code",
   "execution_count": null,
   "id": "f23384c9-4b8f-4d29-ab3f-228be92a50c4",
   "metadata": {},
   "outputs": [],
   "source": []
  },
  {
   "cell_type": "code",
   "execution_count": null,
   "id": "e9341a9a-489c-4254-acdc-09afa3d6b412",
   "metadata": {},
   "outputs": [],
   "source": []
  },
  {
   "cell_type": "code",
   "execution_count": null,
   "id": "b40ac869-eb42-414a-8389-7f87a719de4e",
   "metadata": {},
   "outputs": [],
   "source": []
  },
  {
   "cell_type": "code",
   "execution_count": null,
   "id": "ecf78233-2d22-41e0-84bf-35297bf85799",
   "metadata": {},
   "outputs": [],
   "source": []
  }
 ],
 "metadata": {
  "kernelspec": {
   "display_name": "R",
   "language": "R",
   "name": "ir"
  },
  "language_info": {
   "codemirror_mode": "r",
   "file_extension": ".r",
   "mimetype": "text/x-r-source",
   "name": "R",
   "pygments_lexer": "r",
   "version": "3.6.3"
  }
 },
 "nbformat": 4,
 "nbformat_minor": 5
}
